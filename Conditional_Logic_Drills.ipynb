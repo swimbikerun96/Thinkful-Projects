{
  "nbformat": 4,
  "nbformat_minor": 0,
  "metadata": {
    "colab": {
      "name": "Conditional Logic Drills",
      "version": "0.3.2",
      "provenance": [],
      "collapsed_sections": [],
      "include_colab_link": true
    },
    "kernelspec": {
      "display_name": "Python 3",
      "language": "python",
      "name": "python3"
    }
  },
  "cells": [
    {
      "cell_type": "markdown",
      "metadata": {
        "id": "view-in-github",
        "colab_type": "text"
      },
      "source": [
        "<a href=\"https://colab.research.google.com/github/swimbikerun96/Thinkful-Projects/blob/master/Conditional_Logic_Drills.ipynb\" target=\"_parent\"><img src=\"https://colab.research.google.com/assets/colab-badge.svg\" alt=\"Open In Colab\"/></a>"
      ]
    },
    {
      "cell_type": "markdown",
      "metadata": {
        "id": "nDgKBgI9HF_Z",
        "colab_type": "text"
      },
      "source": [
        "## 1:  `take_umbrella`\n",
        "\n",
        "Write a function called `take_umbrella` that takes two arguments: a string representing the current weather and a float representing the chance of rain today.\n",
        "\n",
        "Your function should return `True` or `False` based on the following criteria.\n",
        "\n",
        "You should take an umbrella if it's currently raining or if it's cloudy and the chance of rain is over 0.20.\n",
        "You shouldn't take an umbrella if it's sunny unless it's more likely to rain than not.\n",
        "The options for the current weather are sunny, cloudy, and rainy.\n",
        "\n",
        "For example, `take_umbrella('sunny', 0.40)` should return `False`.\n",
        "\n",
        "As an additional challenge, consider solving this kata using only logical operaters and not using any if statements."
      ]
    },
    {
      "cell_type": "code",
      "metadata": {
        "id": "_SyhosDpHF_a",
        "colab_type": "code",
        "colab": {}
      },
      "source": [
        "def take_umbrella(current_weather, chance_of_rain):\n",
        "  if current_weather == 'Rain' or (current_weather == 'cloudy' and chance_of_rain > .2) :\n",
        "    return(True)\n",
        "  elif current_weather == 'sunny' or chance_of_rain >.5:\n",
        "    return (False)\n",
        " \n",
        "    \n",
        "  "
      ],
      "execution_count": 0,
      "outputs": []
    },
    {
      "cell_type": "code",
      "metadata": {
        "id": "0x-9cosQMQWn",
        "colab_type": "code",
        "outputId": "847948e0-9c0c-48a2-fc92-39259ae2809e",
        "colab": {
          "base_uri": "https://localhost:8080/",
          "height": 35
        }
      },
      "source": [
        "take_umbrella('sunny', .40)"
      ],
      "execution_count": 0,
      "outputs": [
        {
          "output_type": "execute_result",
          "data": {
            "text/plain": [
              "False"
            ]
          },
          "metadata": {
            "tags": []
          },
          "execution_count": 27
        }
      ]
    },
    {
      "cell_type": "markdown",
      "metadata": {
        "id": "64xCwnl5HF_f",
        "colab_type": "text"
      },
      "source": [
        "## 2: `color probability`\n",
        "\n",
        "You're playing a game with a friend involving a bag of marbles. In the bag are ten marbles:\n",
        "\n",
        "- 1 smooth red marble\n",
        "- 4 bumpy red marbles\n",
        "- 2 bumpy yellow marbles\n",
        "- 1 smooth yellow marble\n",
        "- 1 bumpy green marble\n",
        "- 1 smooth green marble\n",
        "\n",
        "You can see that the probability of picking a smooth red marble from the bag is 1 / 10 or 0.10 and the probability of picking a bumpy yellow marble is 2 / 10 or 0.20.\n",
        "\n",
        "The game works like this: your friend puts her hand in the bag, chooses a marble (without looking at it) and tells you whether it's bumpy or smooth. Then you have to guess which color it is before she pulls it out and reveals whether you're correct or not.\n",
        "\n",
        "You know that the information about whether the marble is bumpy or smooth changes the probability of what color it is, and you want some help with your guesses.\n",
        "\n",
        "Write a function `color_probability` that takes two arguments: a color ('red', 'yellow', or 'green') and a texture ('bumpy' or 'smooth') and returns the probability of drawing that combination as a decimal fraction accurate to two places.\n",
        "\n",
        "The probability should be a string and should discard any digits after the 100ths place. For example, 2 / 3 or 0.6666666666666666 would become the string '0.66'. Note this is different from rounding.\n",
        "\n",
        "As a complete example, color_probability('red', 'bumpy') should return the string '0.57'."
      ]
    },
    {
      "cell_type": "code",
      "metadata": {
        "id": "GXvjnwcyHF_g",
        "colab_type": "code",
        "colab": {}
      },
      "source": [
        "def color_probability(color, texture):\n",
        "  if texture == 'bumpy' and color == 'red':\n",
        "    return \"%.2f\" %(4/7)\n",
        "  elif texture == 'bumpy' and color == 'yellow':\n",
        "    return \"%.2f\" %(2/7)\n",
        "  elif texture == 'bumpy' and color == 'green':\n",
        "    return \"%.2f\" %(1/7)\n",
        "  elif texture == 'smooth' and color == ('green' or 'yellow' or 'red'):\n",
        "    return \"%.2f\" %(1/3)\n",
        "  else:\n",
        "    return 'the marble does not exist'\n",
        "  "
      ],
      "execution_count": 0,
      "outputs": []
    },
    {
      "cell_type": "code",
      "metadata": {
        "id": "Gvkr8emqI5pN",
        "colab_type": "code",
        "outputId": "1028965a-bb3f-44e6-9afd-fadeb7c4e70e",
        "colab": {
          "base_uri": "https://localhost:8080/",
          "height": 34
        }
      },
      "source": [
        "color_probability('purple','smooth')"
      ],
      "execution_count": 5,
      "outputs": [
        {
          "output_type": "execute_result",
          "data": {
            "text/plain": [
              "'the marble does not exist'"
            ]
          },
          "metadata": {
            "tags": []
          },
          "execution_count": 5
        }
      ]
    }
  ]
}