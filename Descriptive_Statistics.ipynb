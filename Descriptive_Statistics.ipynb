{
  "nbformat": 4,
  "nbformat_minor": 0,
  "metadata": {
    "colab": {
      "name": "Descriptive Statistics",
      "version": "0.3.2",
      "provenance": [],
      "collapsed_sections": [],
      "include_colab_link": true
    },
    "kernelspec": {
      "name": "python3",
      "display_name": "Python 3"
    }
  },
  "cells": [
    {
      "cell_type": "markdown",
      "metadata": {
        "id": "view-in-github",
        "colab_type": "text"
      },
      "source": [
        "<a href=\"https://colab.research.google.com/github/swimbikerun96/Thinkful-Projects/blob/master/Descriptive_Statistics.ipynb\" target=\"_parent\"><img src=\"https://colab.research.google.com/assets/colab-badge.svg\" alt=\"Open In Colab\"/></a>"
      ]
    },
    {
      "cell_type": "code",
      "metadata": {
        "id": "rRvZqPX6jwlq",
        "colab_type": "code",
        "colab": {
          "base_uri": "https://localhost:8080/",
          "height": 71
        },
        "outputId": "d8a71738-52c0-4390-c4de-79e5d0ebdd5e"
      },
      "source": [
        "from sqlalchemy import create_engine\n",
        "import pandas as pd\n",
        "from scipy import stats\n",
        "\n",
        "# Database credentials\n",
        "postgres_user = 'dabc_student'\n",
        "postgres_pw = '7*.8G9QH21'\n",
        "postgres_host = '142.93.121.174'\n",
        "postgres_port = '5432'\n",
        "postgres_db = 'houseprices'\n",
        "\n",
        "# use the credentials to start a connection\n",
        "engine = create_engine('postgresql://{}:{}@{}:{}/{}'.format(\n",
        "    postgres_user, postgres_pw, postgres_host, postgres_port, postgres_db))\n",
        "\n",
        "#Create DataFrame\n",
        "\n",
        "houseprices_df = pd.read_sql_table('houseprices', con=engine)\n",
        "\n",
        "engine.dispose()"
      ],
      "execution_count": 2,
      "outputs": [
        {
          "output_type": "stream",
          "text": [
            "/usr/local/lib/python3.6/dist-packages/psycopg2/__init__.py:144: UserWarning: The psycopg2 wheel package will be renamed from release 2.8; in order to keep installing from binary please use \"pip install psycopg2-binary\" instead. For details see: <http://initd.org/psycopg/docs/install.html#binary-install-from-pypi>.\n",
            "  \"\"\")\n"
          ],
          "name": "stderr"
        }
      ]
    },
    {
      "cell_type": "code",
      "metadata": {
        "id": "-dMykUtpkVsr",
        "colab_type": "code",
        "outputId": "b48fc9a5-c0ef-4092-9017-8b789c24ea5b",
        "colab": {
          "base_uri": "https://localhost:8080/",
          "height": 34
        }
      },
      "source": [
        "#1. How many rows of data does the table contain? 1460. \n",
        "houseprices_df.shape"
      ],
      "execution_count": 3,
      "outputs": [
        {
          "output_type": "execute_result",
          "data": {
            "text/plain": [
              "(1460, 81)"
            ]
          },
          "metadata": {
            "tags": []
          },
          "execution_count": 3
        }
      ]
    },
    {
      "cell_type": "code",
      "metadata": {
        "id": "ChqXn2ZgllM4",
        "colab_type": "code",
        "outputId": "8f0c59e2-7d1e-4df5-dffe-4890b84a1479",
        "colab": {
          "base_uri": "https://localhost:8080/",
          "height": 1479
        }
      },
      "source": [
        "houseprices_df.info()"
      ],
      "execution_count": 4,
      "outputs": [
        {
          "output_type": "stream",
          "text": [
            "<class 'pandas.core.frame.DataFrame'>\n",
            "RangeIndex: 1460 entries, 0 to 1459\n",
            "Data columns (total 81 columns):\n",
            "id               1460 non-null int64\n",
            "mssubclass       1460 non-null int64\n",
            "mszoning         1460 non-null object\n",
            "lotfrontage      1201 non-null float64\n",
            "lotarea          1460 non-null int64\n",
            "street           1460 non-null object\n",
            "alley            91 non-null object\n",
            "lotshape         1460 non-null object\n",
            "landcontour      1460 non-null object\n",
            "utilities        1460 non-null object\n",
            "lotconfig        1460 non-null object\n",
            "landslope        1460 non-null object\n",
            "neighborhood     1460 non-null object\n",
            "condition1       1460 non-null object\n",
            "condition2       1460 non-null object\n",
            "bldgtype         1460 non-null object\n",
            "housestyle       1460 non-null object\n",
            "overallqual      1460 non-null int64\n",
            "overallcond      1460 non-null int64\n",
            "yearbuilt        1460 non-null int64\n",
            "yearremodadd     1460 non-null int64\n",
            "roofstyle        1460 non-null object\n",
            "roofmatl         1460 non-null object\n",
            "exterior1st      1460 non-null object\n",
            "exterior2nd      1460 non-null object\n",
            "masvnrtype       1452 non-null object\n",
            "masvnrarea       1452 non-null float64\n",
            "exterqual        1460 non-null object\n",
            "extercond        1460 non-null object\n",
            "foundation       1460 non-null object\n",
            "bsmtqual         1423 non-null object\n",
            "bsmtcond         1423 non-null object\n",
            "bsmtexposure     1422 non-null object\n",
            "bsmtfintype1     1423 non-null object\n",
            "bsmtfinsf1       1460 non-null int64\n",
            "bsmtfintype2     1422 non-null object\n",
            "bsmtfinsf2       1460 non-null int64\n",
            "bsmtunfsf        1460 non-null int64\n",
            "totalbsmtsf      1460 non-null int64\n",
            "heating          1460 non-null object\n",
            "heatingqc        1460 non-null object\n",
            "centralair       1460 non-null object\n",
            "electrical       1459 non-null object\n",
            "firstflrsf       1460 non-null int64\n",
            "secondflrsf      1460 non-null int64\n",
            "lowqualfinsf     1460 non-null int64\n",
            "grlivarea        1460 non-null int64\n",
            "bsmtfullbath     1460 non-null int64\n",
            "bsmthalfbath     1460 non-null int64\n",
            "fullbath         1460 non-null int64\n",
            "halfbath         1460 non-null int64\n",
            "bedroomabvgr     1460 non-null int64\n",
            "kitchenabvgr     1460 non-null int64\n",
            "kitchenqual      1460 non-null object\n",
            "totrmsabvgrd     1460 non-null int64\n",
            "functional       1460 non-null object\n",
            "fireplaces       1460 non-null int64\n",
            "fireplacequ      770 non-null object\n",
            "garagetype       1379 non-null object\n",
            "garageyrblt      1379 non-null float64\n",
            "garagefinish     1379 non-null object\n",
            "garagecars       1460 non-null int64\n",
            "garagearea       1460 non-null int64\n",
            "garagequal       1379 non-null object\n",
            "garagecond       1379 non-null object\n",
            "paveddrive       1460 non-null object\n",
            "wooddecksf       1460 non-null int64\n",
            "openporchsf      1460 non-null int64\n",
            "enclosedporch    1460 non-null int64\n",
            "threessnporch    1460 non-null int64\n",
            "screenporch      1460 non-null int64\n",
            "poolarea         1460 non-null int64\n",
            "poolqc           7 non-null object\n",
            "fence            281 non-null object\n",
            "miscfeature      54 non-null object\n",
            "miscval          1460 non-null int64\n",
            "mosold           1460 non-null int64\n",
            "yrsold           1460 non-null int64\n",
            "saletype         1460 non-null object\n",
            "salecondition    1460 non-null object\n",
            "saleprice        1460 non-null int64\n",
            "dtypes: float64(3), int64(35), object(43)\n",
            "memory usage: 924.0+ KB\n"
          ],
          "name": "stdout"
        }
      ]
    },
    {
      "cell_type": "code",
      "metadata": {
        "id": "uSRvlfRym0ax",
        "colab_type": "code",
        "outputId": "a25989f7-14e5-4d0a-cd0c-2b3ff91b404c",
        "colab": {
          "base_uri": "https://localhost:8080/",
          "height": 34
        }
      },
      "source": [
        "#2. How many distinct values are there in the mszoning column?\n",
        "houseprices_df['mszoning'].nunique()"
      ],
      "execution_count": 0,
      "outputs": [
        {
          "output_type": "execute_result",
          "data": {
            "text/plain": [
              "5"
            ]
          },
          "metadata": {
            "tags": []
          },
          "execution_count": 43
        }
      ]
    },
    {
      "cell_type": "code",
      "metadata": {
        "id": "2oqMh_EKrMPw",
        "colab_type": "code",
        "outputId": "ee6251f0-8f14-4df7-8ace-4ff107d23589",
        "colab": {
          "base_uri": "https://localhost:8080/",
          "height": 34
        }
      },
      "source": [
        "#3. How many distinct values are there in the street column?\n",
        "houseprices_df['street'].nunique()"
      ],
      "execution_count": 0,
      "outputs": [
        {
          "output_type": "execute_result",
          "data": {
            "text/plain": [
              "2"
            ]
          },
          "metadata": {
            "tags": []
          },
          "execution_count": 44
        }
      ]
    },
    {
      "cell_type": "code",
      "metadata": {
        "id": "BIgjFI3nrm6U",
        "colab_type": "code",
        "outputId": "e1df1a25-d544-498e-9cbd-b09fc2dd6fef",
        "colab": {
          "base_uri": "https://localhost:8080/",
          "height": 170
        }
      },
      "source": [
        "#4. Describe the range of the saleprice.\n",
        "\n",
        "houseprices_df['saleprice'].describe()"
      ],
      "execution_count": 0,
      "outputs": [
        {
          "output_type": "execute_result",
          "data": {
            "text/plain": [
              "count      1460.000000\n",
              "mean     180921.195890\n",
              "std       79442.502883\n",
              "min       34900.000000\n",
              "25%      129975.000000\n",
              "50%      163000.000000\n",
              "75%      214000.000000\n",
              "max      755000.000000\n",
              "Name: saleprice, dtype: float64"
            ]
          },
          "metadata": {
            "tags": []
          },
          "execution_count": 45
        }
      ]
    },
    {
      "cell_type": "code",
      "metadata": {
        "id": "nZdeVwmqtZdx",
        "colab_type": "code",
        "colab": {}
      },
      "source": [
        "def describe_range(column):\n",
        "  print('range is {}'.format(column.max() - column.min()))"
      ],
      "execution_count": 0,
      "outputs": []
    },
    {
      "cell_type": "code",
      "metadata": {
        "id": "b5M8JUMEtv71",
        "colab_type": "code",
        "outputId": "03806326-154a-41f8-f6fb-804483ed2c05",
        "colab": {
          "base_uri": "https://localhost:8080/",
          "height": 34
        }
      },
      "source": [
        "describe_range(houseprices_df['saleprice'])"
      ],
      "execution_count": 7,
      "outputs": [
        {
          "output_type": "stream",
          "text": [
            "range is 720100\n"
          ],
          "name": "stdout"
        }
      ]
    },
    {
      "cell_type": "code",
      "metadata": {
        "id": "CXb8hiqpuCZP",
        "colab_type": "code",
        "outputId": "3a7fca50-e15f-4483-973c-041773737480",
        "colab": {
          "base_uri": "https://localhost:8080/",
          "height": 170
        }
      },
      "source": [
        "#5. Describe the Range of the lotarea\n",
        "\n",
        "houseprices_df['lotarea'].describe()"
      ],
      "execution_count": 0,
      "outputs": [
        {
          "output_type": "execute_result",
          "data": {
            "text/plain": [
              "count      1460.000000\n",
              "mean      10516.828082\n",
              "std        9981.264932\n",
              "min        1300.000000\n",
              "25%        7553.500000\n",
              "50%        9478.500000\n",
              "75%       11601.500000\n",
              "max      215245.000000\n",
              "Name: lotarea, dtype: float64"
            ]
          },
          "metadata": {
            "tags": []
          },
          "execution_count": 49
        }
      ]
    },
    {
      "cell_type": "code",
      "metadata": {
        "id": "GzFiceUeuWvO",
        "colab_type": "code",
        "outputId": "8d83d39d-8831-46b2-b224-b2a9733e20bf",
        "colab": {
          "base_uri": "https://localhost:8080/",
          "height": 34
        }
      },
      "source": [
        "describe_range(houseprices_df['lotarea'])"
      ],
      "execution_count": 0,
      "outputs": [
        {
          "output_type": "stream",
          "text": [
            "range is 213945\n"
          ],
          "name": "stdout"
        }
      ]
    },
    {
      "cell_type": "code",
      "metadata": {
        "id": "WEYeMcMHuhJE",
        "colab_type": "code",
        "outputId": "3139da0e-0979-435d-bd82-fb28a471438a",
        "colab": {
          "base_uri": "https://localhost:8080/",
          "height": 51
        }
      },
      "source": [
        "#7. Is there a statistically significant difference between the prices of the houses that have an open porch versus houses that do not have an open porch?\n",
        "#How did you handle null values?\n",
        "\n",
        "clean_houseprices = houseprices_df.dropna()\n",
        "\n",
        "print('correlation value is close(ish) to 1, indicating a postive correlation between saleprice and an open porch')\n",
        "\n",
        "houseprices_df['openporchsf'].corr(houseprices_df['saleprice'])\n",
        "\n"
      ],
      "execution_count": 8,
      "outputs": [
        {
          "output_type": "stream",
          "text": [
            "correlation value is close(ish) to 1, indicating a postive correlation between saleprice and an open porch\n"
          ],
          "name": "stdout"
        },
        {
          "output_type": "execute_result",
          "data": {
            "text/plain": [
              "0.3158562271160555"
            ]
          },
          "metadata": {
            "tags": []
          },
          "execution_count": 8
        }
      ]
    },
    {
      "cell_type": "code",
      "metadata": {
        "colab_type": "code",
        "id": "OUE7ykHg3Ewl",
        "colab": {}
      },
      "source": [
        "openporch_homes = houseprices_df.iloc[(houseprices_df['openporchsf']  > 0).values]\n",
        "\n",
        "openporch_homes.info()"
      ],
      "execution_count": 0,
      "outputs": []
    },
    {
      "cell_type": "code",
      "metadata": {
        "colab_type": "code",
        "id": "Whk8bP6L3EaR",
        "colab": {}
      },
      "source": [
        "no_openporch = houseprices_df.iloc[(houseprices_df['openporchsf'] == 0).values]\n",
        "\n",
        "no_openporch.info()"
      ],
      "execution_count": 0,
      "outputs": []
    }
  ]
}