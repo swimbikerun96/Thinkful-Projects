{
  "nbformat": 4,
  "nbformat_minor": 0,
  "metadata": {
    "colab": {
      "name": "Untitled16.ipynb",
      "provenance": [],
      "authorship_tag": "ABX9TyP7K6KMdXJGN68ZyaOnipBk",
      "include_colab_link": true
    },
    "kernelspec": {
      "name": "python3",
      "display_name": "Python 3"
    }
  },
  "cells": [
    {
      "cell_type": "markdown",
      "metadata": {
        "id": "view-in-github",
        "colab_type": "text"
      },
      "source": [
        "<a href=\"https://colab.research.google.com/github/swimbikerun96/Thinkful-Projects/blob/master/7.%20Area%20of%20a%20Rectangular%20Room.ipynb\" target=\"_parent\"><img src=\"https://colab.research.google.com/assets/colab-badge.svg\" alt=\"Open In Colab\"/></a>"
      ]
    },
    {
      "cell_type": "code",
      "metadata": {
        "id": "M08RGYWBK0Tf",
        "colab_type": "code",
        "colab": {}
      },
      "source": [
        "import PySimpleGUI as sg\n",
        "import math\n",
        "sg.theme('DarkBrown')\n",
        "layout = [[sg.Text('Select Your Unit of Measurement:')],\n",
        "          [sg.Checkbox('Feet', size = (10,1), key = 'imperial'), sg.Checkbox('Meters', size = (10,1), key = 'metric')],\n",
        "          [sg.Text('Length: ')],\n",
        "          [sg.Slider(range=(1,50), orientation = 'h', size = (34,20), default_value = 25, key = 'l')],\n",
        "          [sg.Text('Width: ')],\n",
        "          [sg.Slider(range=(1,50), orientation = 'h', size = (34,20), default_value = 25, key = 'w')],\n",
        "          [sg.Text('', size=(48,4), key = 'output')],\n",
        "          [sg.Button('Calculate Area', bind_return_key=True)]]\n",
        "\n",
        "window = sg.Window('Area of a Rectangular Room', layout, resizable = True)\n",
        "\n",
        "while True:\n",
        "    event, values = window.read()\n",
        "    l = values['l']\n",
        "    w = values['w']\n",
        "    imperial = values['imperial']\n",
        "    metric = values['metric']\n",
        "    if event is not None:\n",
        "        try:\n",
        "            if imperial == True and metric == False:\n",
        "                calc = l*w\n",
        "                window['output'].update(f\"\"\"The area of the room is {calc} square feet -\n",
        "at least according to those in Liberia, the U.S., and Myanmar.\"\"\")\n",
        "            elif metric == True and imperial == False:\n",
        "                calc = (l*w)*.09290304\n",
        "                window['output'].update(f\"\"\"Everywhere else, the area is\n",
        "{round(calc,2)} square meters\"\"\")\n",
        "            else:\n",
        "                window['output'].update(\"Only One Unit of Measurement Can Be Selected At a Time\")\n",
        "        except:\n",
        "            calc = 'invalid'\n",
        "    else:\n",
        "        break"
      ],
      "execution_count": 0,
      "outputs": []
    }
  ]
}